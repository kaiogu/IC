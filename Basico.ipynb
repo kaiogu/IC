{
 "cells": [
  {
   "cell_type": "markdown",
   "metadata": {},
   "source": [
    "# Lista de exercícios sobre TensorFlow - Funcionamento Básico"
   ]
  },
  {
   "cell_type": "markdown",
   "metadata": {},
   "source": [
    "**Disciplina**: Introdução a redes neurais profundas 2018/1  \n",
    "**Professor**: Jorge Leonid Aching Samatelo"
   ]
  },
  {
   "cell_type": "markdown",
   "metadata": {},
   "source": [
    "**Aluno**: NOME DO ALUNO"
   ]
  },
  {
   "cell_type": "markdown",
   "metadata": {},
   "source": [
    "REFAZER\n",
    "\n",
    "## Tabela de conteúdos\n",
    "1. [Indicações](#indicacoes)\n",
    "1. [Exercícios sobre String](#ExerString)\n",
    "1. [Exercícios sobre Listas](#ExerListas)\n",
    "1. [Exercícios sobre Tuplas](#ExerTuplas)\n",
    "1. [Exercícios sobre Dicionarios](#ExerDicionarios)\n",
    "1. [Exercícios sobre Sentenças Condicionais e Repetição](#ExerCondRept)\n",
    "1. [Exercícios de Programação](#ExerProgramacao)"
   ]
  },
  {
   "cell_type": "markdown",
   "metadata": {},
   "source": [
    "## Indicações <a name=\"indicacoes\"></a>\n",
    "\n",
    "### Considerações\n",
    "* Cada aluno enviará por e-mail a solução dos exercícios propostos, tais soluções devem ser inseridas neste mesmo arquivo. \n",
    "* Para saber cómo trabalhar com arquivos `*.ipynb` é necessario ler os slides NOME ARQUIVO.\n",
    "\n",
    "### Prazo\n",
    "* Envio das soluções: DATA LIMITE\n",
    "\n",
    "### Procedimento para o envio das soluções\n",
    "* O arquivo `*.ipynb` com as soluções dos exercícios deve ser enviado ao email <jlasam001@gmail.com> com o assunto: NOME ASSUNTO. \n",
    "* O nome do arquivo `*.ipynb` deve iniciar com o rotulo NOME ROTULO seguido pelas iniciais do nome do aluno que soluciono os exercícios (por exemplo, o aluno Pedro Farias enviara o arquivo NOME ROTULO_PF).\n",
    "\n",
    "### Dicas execução\n",
    "* Carregue todos os pacotes que serão necessários no início do arquivo\n",
    "* Entre um exercício e outro, utilize um grapho diferente ou então reínicie o grafo padrão\n",
    "* Para executar comandos da shell dentro do notebook, utilize o prefixo `!` antes do comando de shell. (e.g. para listar os arquivos da pasta atual faça `! ls` para UNIX ou `! dir` para Windows."
   ]
  },
  {
   "cell_type": "code",
   "execution_count": 1,
   "metadata": {
    "collapsed": true
   },
   "outputs": [],
   "source": [
    "import tensorflow as tf\n",
    "import numpy as np"
   ]
  },
  {
   "cell_type": "markdown",
   "metadata": {
    "collapsed": true
   },
   "source": [
    "## Exercícios sobre sessões"
   ]
  },
  {
   "cell_type": "markdown",
   "metadata": {},
   "source": [
    "### Exe. 1"
   ]
  },
  {
   "cell_type": "markdown",
   "metadata": {},
   "source": [
    "Faça um grafo que tenha duas constantes (`tf.constants`) e uma operação de multiplicação. Imprima as imprima as operações criadas (fora de uma sessão).  \n",
    "**Dica**: Você não obterá o valor numerico das operações, mas sim a definição dos tensores."
   ]
  },
  {
   "cell_type": "code",
   "execution_count": 2,
   "metadata": {
    "scrolled": true
   },
   "outputs": [
    {
     "name": "stdout",
     "output_type": "stream",
     "text": [
      "Tensor(\"a:0\", shape=(), dtype=int32) Tensor(\"b:0\", shape=(), dtype=int32) Tensor(\"mul:0\", shape=(), dtype=int32)\n"
     ]
    }
   ],
   "source": [
    "a = tf.constant(2, name='a')\n",
    "b = tf.constant(3, name='b')\n",
    "ab = a*b\n",
    "\n",
    "print(a, b, ab)"
   ]
  },
  {
   "cell_type": "markdown",
   "metadata": {},
   "source": [
    "### Exe. 2"
   ]
  },
  {
   "cell_type": "markdown",
   "metadata": {},
   "source": [
    "Avalie o resultado da multiplicação com uma sessão interativa (`tf.InteractiveSession`).  \n",
    "Note que é necessário fechar a sessão com o método `close` da sessão para que ela libere a memória usada."
   ]
  },
  {
   "cell_type": "code",
   "execution_count": 3,
   "metadata": {},
   "outputs": [
    {
     "name": "stdout",
     "output_type": "stream",
     "text": [
      "6 6\n"
     ]
    }
   ],
   "source": [
    "a = tf.constant(2, name='a')\n",
    "b = tf.constant(3, name='b')\n",
    "ab = a*b\n",
    "\n",
    "sess = tf.InteractiveSession()\n",
    "result1 = sess.run(ab)     # Solução 1\n",
    "result2 = ab.eval()        # Solução 2\n",
    "print(result1, result2)\n",
    "sess.close()"
   ]
  },
  {
   "cell_type": "markdown",
   "metadata": {},
   "source": [
    "### Exe. 3"
   ]
  },
  {
   "cell_type": "markdown",
   "metadata": {},
   "source": [
    "Avalie agora o resultado da multiplicação com uma sessão em um bloco `with tf.Session() as sess:`.  \n",
    "Note que nesse método a sessão é fechada automaticamente para você."
   ]
  },
  {
   "cell_type": "code",
   "execution_count": 19,
   "metadata": {},
   "outputs": [
    {
     "name": "stdout",
     "output_type": "stream",
     "text": [
      "6 6\n"
     ]
    }
   ],
   "source": [
    "a = tf.constant(2, name='a')\n",
    "b = tf.constant(3, name='b')\n",
    "ab = a*b\n",
    "\n",
    "with tf.Session() as sess:\n",
    "    result1 = sess.run(ab)     # Solução 1\n",
    "    result2 = ab.eval()        # Solução 2\n",
    "print(result1, result2)"
   ]
  },
  {
   "cell_type": "markdown",
   "metadata": {},
   "source": [
    "### Exe. 4\n",
    "\n",
    "Visualize as operações criadas dentro do grafo usando o tensorboard. Para isso utilize\n"
   ]
  },
  {
   "cell_type": "code",
   "execution_count": 20,
   "metadata": {
    "collapsed": true
   },
   "outputs": [],
   "source": [
    "tf.summary.FileWriter('logs', tf.get_default_graph()).close()"
   ]
  },
  {
   "cell_type": "code",
   "execution_count": 9,
   "metadata": {
    "collapsed": true
   },
   "outputs": [],
   "source": [
    "with tf.Session() as sess:\n",
    "    writer = tf.summary.FileWriter('logs', sess.graph)\n",
    "    writer.close()"
   ]
  },
  {
   "cell_type": "markdown",
   "metadata": {},
   "source": [
    "## Exercícios sobre tensores"
   ]
  },
  {
   "cell_type": "markdown",
   "metadata": {},
   "source": [
    "### Exe. 5"
   ]
  },
  {
   "cell_type": "markdown",
   "metadata": {},
   "source": [
    "Crie as seguintes variáveis:\n",
    "**a)**\n",
    "**b)** Uma matriz de pesos `W` 10x5 com uma distribuição normal centrada em zero e com um desvio padrão de 0.1.\n",
    "**c)** Um vetor de bias `b` 5x1 com uma distribuição uniforme de 0.5 a 1.5"
   ]
  },
  {
   "cell_type": "code",
   "execution_count": 22,
   "metadata": {
    "collapsed": true
   },
   "outputs": [],
   "source": [
    "W = tf.Variable(tf.random_normal([10, 5], mean=0.0, stddev=0.1))\n",
    "b = tf.Variable(tf.random_uniform([50, 1]), minval=0.5, maxval=1.5)"
   ]
  },
  {
   "cell_type": "code",
   "execution_count": null,
   "metadata": {
    "collapsed": true
   },
   "outputs": [],
   "source": []
  }
 ],
 "metadata": {
  "kernelspec": {
   "display_name": "Python 3",
   "language": "python",
   "name": "python3"
  },
  "language_info": {
   "codemirror_mode": {
    "name": "ipython",
    "version": 3
   },
   "file_extension": ".py",
   "mimetype": "text/x-python",
   "name": "python",
   "nbconvert_exporter": "python",
   "pygments_lexer": "ipython3",
   "version": "3.6.2"
  }
 },
 "nbformat": 4,
 "nbformat_minor": 2
}
